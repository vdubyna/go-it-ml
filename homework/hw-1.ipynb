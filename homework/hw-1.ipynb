{
 "cells": [
  {
   "cell_type": "code",
   "id": "initial_id",
   "metadata": {
    "collapsed": true,
    "ExecuteTime": {
     "end_time": "2025-02-23T21:52:20.360604Z",
     "start_time": "2025-02-23T21:52:20.345605Z"
    }
   },
   "source": [
    "from sklearn.datasets import fetch_california_housing\n",
    "california = fetch_california_housing()\n",
    "print(california.DESCR)"
   ],
   "outputs": [
    {
     "name": "stdout",
     "output_type": "stream",
     "text": [
      ".. _california_housing_dataset:\n",
      "\n",
      "California Housing dataset\n",
      "--------------------------\n",
      "\n",
      "**Data Set Characteristics:**\n",
      "\n",
      ":Number of Instances: 20640\n",
      "\n",
      ":Number of Attributes: 8 numeric, predictive attributes and the target\n",
      "\n",
      ":Attribute Information:\n",
      "    - MedInc        median income in block group\n",
      "    - HouseAge      median house age in block group\n",
      "    - AveRooms      average number of rooms per household\n",
      "    - AveBedrms     average number of bedrooms per household\n",
      "    - Population    block group population\n",
      "    - AveOccup      average number of household members\n",
      "    - Latitude      block group latitude\n",
      "    - Longitude     block group longitude\n",
      "\n",
      ":Missing Attribute Values: None\n",
      "\n",
      "This dataset was obtained from the StatLib repository.\n",
      "https://www.dcc.fc.up.pt/~ltorgo/Regression/cal_housing.html\n",
      "\n",
      "The target variable is the median house value for California districts,\n",
      "expressed in hundreds of thousands of dollars ($100,000).\n",
      "\n",
      "This dataset was derived from the 1990 U.S. census, using one row per census\n",
      "block group. A block group is the smallest geographical unit for which the U.S.\n",
      "Census Bureau publishes sample data (a block group typically has a population\n",
      "of 600 to 3,000 people).\n",
      "\n",
      "A household is a group of people residing within a home. Since the average\n",
      "number of rooms and bedrooms in this dataset are provided per household, these\n",
      "columns may take surprisingly large values for block groups with few households\n",
      "and many empty houses, such as vacation resorts.\n",
      "\n",
      "It can be downloaded/loaded using the\n",
      ":func:`sklearn.datasets.fetch_california_housing` function.\n",
      "\n",
      ".. topic:: References\n",
      "\n",
      "    - Pace, R. Kelley and Ronald Barry, Sparse Spatial Autoregressions,\n",
      "      Statistics and Probability Letters, 33 (1997) 291-297\n",
      "\n"
     ]
    }
   ],
   "execution_count": 36
  },
  {
   "metadata": {
    "ExecuteTime": {
     "end_time": "2025-02-23T21:52:20.438865Z",
     "start_time": "2025-02-23T21:52:20.429973Z"
    }
   },
   "cell_type": "code",
   "source": [
    "import pandas as pd\n",
    "df = pd.DataFrame(california.data, columns=california.feature_names)\n",
    "df"
   ],
   "id": "8c718f2b40a7866e",
   "outputs": [
    {
     "data": {
      "text/plain": [
       "       MedInc  HouseAge  AveRooms  AveBedrms  Population  AveOccup  Latitude  \\\n",
       "0      8.3252      41.0  6.984127   1.023810       322.0  2.555556     37.88   \n",
       "1      8.3014      21.0  6.238137   0.971880      2401.0  2.109842     37.86   \n",
       "2      7.2574      52.0  8.288136   1.073446       496.0  2.802260     37.85   \n",
       "3      5.6431      52.0  5.817352   1.073059       558.0  2.547945     37.85   \n",
       "4      3.8462      52.0  6.281853   1.081081       565.0  2.181467     37.85   \n",
       "...       ...       ...       ...        ...         ...       ...       ...   \n",
       "20635  1.5603      25.0  5.045455   1.133333       845.0  2.560606     39.48   \n",
       "20636  2.5568      18.0  6.114035   1.315789       356.0  3.122807     39.49   \n",
       "20637  1.7000      17.0  5.205543   1.120092      1007.0  2.325635     39.43   \n",
       "20638  1.8672      18.0  5.329513   1.171920       741.0  2.123209     39.43   \n",
       "20639  2.3886      16.0  5.254717   1.162264      1387.0  2.616981     39.37   \n",
       "\n",
       "       Longitude  \n",
       "0        -122.23  \n",
       "1        -122.22  \n",
       "2        -122.24  \n",
       "3        -122.25  \n",
       "4        -122.25  \n",
       "...          ...  \n",
       "20635    -121.09  \n",
       "20636    -121.21  \n",
       "20637    -121.22  \n",
       "20638    -121.32  \n",
       "20639    -121.24  \n",
       "\n",
       "[20640 rows x 8 columns]"
      ],
      "text/html": [
       "<div>\n",
       "<style scoped>\n",
       "    .dataframe tbody tr th:only-of-type {\n",
       "        vertical-align: middle;\n",
       "    }\n",
       "\n",
       "    .dataframe tbody tr th {\n",
       "        vertical-align: top;\n",
       "    }\n",
       "\n",
       "    .dataframe thead th {\n",
       "        text-align: right;\n",
       "    }\n",
       "</style>\n",
       "<table border=\"1\" class=\"dataframe\">\n",
       "  <thead>\n",
       "    <tr style=\"text-align: right;\">\n",
       "      <th></th>\n",
       "      <th>MedInc</th>\n",
       "      <th>HouseAge</th>\n",
       "      <th>AveRooms</th>\n",
       "      <th>AveBedrms</th>\n",
       "      <th>Population</th>\n",
       "      <th>AveOccup</th>\n",
       "      <th>Latitude</th>\n",
       "      <th>Longitude</th>\n",
       "    </tr>\n",
       "  </thead>\n",
       "  <tbody>\n",
       "    <tr>\n",
       "      <th>0</th>\n",
       "      <td>8.3252</td>\n",
       "      <td>41.0</td>\n",
       "      <td>6.984127</td>\n",
       "      <td>1.023810</td>\n",
       "      <td>322.0</td>\n",
       "      <td>2.555556</td>\n",
       "      <td>37.88</td>\n",
       "      <td>-122.23</td>\n",
       "    </tr>\n",
       "    <tr>\n",
       "      <th>1</th>\n",
       "      <td>8.3014</td>\n",
       "      <td>21.0</td>\n",
       "      <td>6.238137</td>\n",
       "      <td>0.971880</td>\n",
       "      <td>2401.0</td>\n",
       "      <td>2.109842</td>\n",
       "      <td>37.86</td>\n",
       "      <td>-122.22</td>\n",
       "    </tr>\n",
       "    <tr>\n",
       "      <th>2</th>\n",
       "      <td>7.2574</td>\n",
       "      <td>52.0</td>\n",
       "      <td>8.288136</td>\n",
       "      <td>1.073446</td>\n",
       "      <td>496.0</td>\n",
       "      <td>2.802260</td>\n",
       "      <td>37.85</td>\n",
       "      <td>-122.24</td>\n",
       "    </tr>\n",
       "    <tr>\n",
       "      <th>3</th>\n",
       "      <td>5.6431</td>\n",
       "      <td>52.0</td>\n",
       "      <td>5.817352</td>\n",
       "      <td>1.073059</td>\n",
       "      <td>558.0</td>\n",
       "      <td>2.547945</td>\n",
       "      <td>37.85</td>\n",
       "      <td>-122.25</td>\n",
       "    </tr>\n",
       "    <tr>\n",
       "      <th>4</th>\n",
       "      <td>3.8462</td>\n",
       "      <td>52.0</td>\n",
       "      <td>6.281853</td>\n",
       "      <td>1.081081</td>\n",
       "      <td>565.0</td>\n",
       "      <td>2.181467</td>\n",
       "      <td>37.85</td>\n",
       "      <td>-122.25</td>\n",
       "    </tr>\n",
       "    <tr>\n",
       "      <th>...</th>\n",
       "      <td>...</td>\n",
       "      <td>...</td>\n",
       "      <td>...</td>\n",
       "      <td>...</td>\n",
       "      <td>...</td>\n",
       "      <td>...</td>\n",
       "      <td>...</td>\n",
       "      <td>...</td>\n",
       "    </tr>\n",
       "    <tr>\n",
       "      <th>20635</th>\n",
       "      <td>1.5603</td>\n",
       "      <td>25.0</td>\n",
       "      <td>5.045455</td>\n",
       "      <td>1.133333</td>\n",
       "      <td>845.0</td>\n",
       "      <td>2.560606</td>\n",
       "      <td>39.48</td>\n",
       "      <td>-121.09</td>\n",
       "    </tr>\n",
       "    <tr>\n",
       "      <th>20636</th>\n",
       "      <td>2.5568</td>\n",
       "      <td>18.0</td>\n",
       "      <td>6.114035</td>\n",
       "      <td>1.315789</td>\n",
       "      <td>356.0</td>\n",
       "      <td>3.122807</td>\n",
       "      <td>39.49</td>\n",
       "      <td>-121.21</td>\n",
       "    </tr>\n",
       "    <tr>\n",
       "      <th>20637</th>\n",
       "      <td>1.7000</td>\n",
       "      <td>17.0</td>\n",
       "      <td>5.205543</td>\n",
       "      <td>1.120092</td>\n",
       "      <td>1007.0</td>\n",
       "      <td>2.325635</td>\n",
       "      <td>39.43</td>\n",
       "      <td>-121.22</td>\n",
       "    </tr>\n",
       "    <tr>\n",
       "      <th>20638</th>\n",
       "      <td>1.8672</td>\n",
       "      <td>18.0</td>\n",
       "      <td>5.329513</td>\n",
       "      <td>1.171920</td>\n",
       "      <td>741.0</td>\n",
       "      <td>2.123209</td>\n",
       "      <td>39.43</td>\n",
       "      <td>-121.32</td>\n",
       "    </tr>\n",
       "    <tr>\n",
       "      <th>20639</th>\n",
       "      <td>2.3886</td>\n",
       "      <td>16.0</td>\n",
       "      <td>5.254717</td>\n",
       "      <td>1.162264</td>\n",
       "      <td>1387.0</td>\n",
       "      <td>2.616981</td>\n",
       "      <td>39.37</td>\n",
       "      <td>-121.24</td>\n",
       "    </tr>\n",
       "  </tbody>\n",
       "</table>\n",
       "<p>20640 rows × 8 columns</p>\n",
       "</div>"
      ]
     },
     "execution_count": 37,
     "metadata": {},
     "output_type": "execute_result"
    }
   ],
   "execution_count": 37
  },
  {
   "metadata": {
    "ExecuteTime": {
     "end_time": "2025-02-23T21:52:20.486375Z",
     "start_time": "2025-02-23T21:52:20.481318Z"
    }
   },
   "cell_type": "code",
   "source": [
    "import numpy as np\n",
    "# Обчислюємо середні значення координат для того, щоб створити центроїд та перетворити\n",
    "# Ознаки довготи та широти у нову ознаку - відстань до центроїду, щоб прибрати кореляцію\n",
    "mean_lat = df['Latitude'].mean()\n",
    "mean_lon = df['Longitude'].mean()\n",
    "df['DistanceFromCenter'] = np.sqrt((df['Latitude'] - mean_lat)**2 + (df['Longitude'] - mean_lon)**2)\n",
    "\n",
    "print(df[['Latitude', 'Longitude', 'DistanceFromCenter']].head())\n",
    "df.drop(columns=['Latitude', 'Longitude'], inplace=True)"
   ],
   "id": "85e181b59ed07ef4",
   "outputs": [
    {
     "name": "stdout",
     "output_type": "stream",
     "text": [
      "   Latitude  Longitude  DistanceFromCenter\n",
      "0     37.88    -122.23            3.483001\n",
      "1     37.86    -122.22            3.462466\n",
      "2     37.85    -122.24            3.471400\n",
      "3     37.85    -122.25            3.479098\n",
      "4     37.85    -122.25            3.479098\n"
     ]
    }
   ],
   "execution_count": 38
  },
  {
   "metadata": {
    "ExecuteTime": {
     "end_time": "2025-02-23T21:52:20.521520Z",
     "start_time": "2025-02-23T21:52:20.513251Z"
    }
   },
   "cell_type": "code",
   "source": [
    "import numpy as np\n",
    "from scipy.stats import zscore\n",
    "\n",
    "# Список колонок для перевірки на аномалії\n",
    "cols = ['AveRooms', 'AveBedrms', 'AveOccup', 'Population']\n",
    "threshold = 3\n",
    "z_scores = df[cols].apply(zscore)\n",
    "mask = np.abs(z_scores) < threshold\n",
    "rows_to_keep = mask.all(axis=1)\n",
    "df_clean = df[rows_to_keep].copy()\n",
    "print(\"Початковий розмір даних:\", df.shape)\n",
    "print(\"Розмір після видалення викидів:\", df_clean.shape)\n"
   ],
   "id": "1e008f3c1ad06c1f",
   "outputs": [
    {
     "name": "stdout",
     "output_type": "stream",
     "text": [
      "Початковий розмір даних: (20640, 7)\n",
      "Розмір після видалення викидів: (20135, 7)\n"
     ]
    }
   ],
   "execution_count": 39
  },
  {
   "metadata": {
    "ExecuteTime": {
     "end_time": "2025-02-23T21:52:20.668829Z",
     "start_time": "2025-02-23T21:52:20.543314Z"
    }
   },
   "cell_type": "code",
   "source": [
    "import seaborn as sns  \n",
    "import matplotlib.pyplot as plt  # для побудови графіків\n",
    "correlation_matrix = df_clean.corr()\n",
    "print(\"Матриця кореляцій:\")\n",
    "print(correlation_matrix)\n",
    "\n",
    "# Створюємо теплову карту (heatmap) для зручного перегляду кореляцій\n",
    "plt.figure(figsize=(10, 8))  # налаштовуємо розмір графіка\n",
    "sns.heatmap(correlation_matrix, annot=True, fmt=\".2f\", cmap=\"coolwarm\")\n",
    "plt.title(\"Теплова карта кореляцій\")\n",
    "plt.show()"
   ],
   "id": "f015e4d00772893e",
   "outputs": [
    {
     "name": "stdout",
     "output_type": "stream",
     "text": [
      "Матриця кореляцій:\n",
      "                      MedInc  HouseAge  AveRooms  AveBedrms  Population  \\\n",
      "MedInc              1.000000 -0.115877  0.656478  -0.167024   -0.020473   \n",
      "HouseAge           -0.115877  1.000000 -0.215724  -0.125943   -0.289941   \n",
      "AveRooms            0.656478 -0.215724  1.000000   0.300095   -0.086841   \n",
      "AveBedrms          -0.167024 -0.125943  0.300095   1.000000   -0.045160   \n",
      "Population         -0.020473 -0.289941 -0.086841  -0.045160    1.000000   \n",
      "AveOccup           -0.062207 -0.000518 -0.042819  -0.081026    0.177735   \n",
      "DistanceFromCenter -0.037161 -0.045048  0.101239   0.113549   -0.077016   \n",
      "\n",
      "                    AveOccup  DistanceFromCenter  \n",
      "MedInc             -0.062207           -0.037161  \n",
      "HouseAge           -0.000518           -0.045048  \n",
      "AveRooms           -0.042819            0.101239  \n",
      "AveBedrms          -0.081026            0.113549  \n",
      "Population          0.177735           -0.077016  \n",
      "AveOccup            1.000000           -0.158221  \n",
      "DistanceFromCenter -0.158221            1.000000  \n"
     ]
    },
    {
     "data": {
      "text/plain": [
       "<Figure size 1000x800 with 2 Axes>"
      ],
      "image/png": "[encoded data removed]"
     },
     "metadata": {},
     "output_type": "display_data"
    }
   ],
   "execution_count": 40
  },
  {
   "metadata": {
    "ExecuteTime": {
     "end_time": "2025-02-23T21:52:20.733490Z",
     "start_time": "2025-02-23T21:52:20.731059Z"
    }
   },
   "cell_type": "code",
   "source": [
    "# Створення нової ознаки, що показує, чи було значення обрізано\n",
    "# додало до R2 - 0.57 -> 0.58\n",
    "df_clean['HouseAge_aged'] = (df_clean['HouseAge'] == 52).astype(int)"
   ],
   "id": "373d4cb97395c48",
   "outputs": [],
   "execution_count": 41
  },
  {
   "metadata": {
    "ExecuteTime": {
     "end_time": "2025-02-23T21:52:20.764156Z",
     "start_time": "2025-02-23T21:52:20.752644Z"
    }
   },
   "cell_type": "code",
   "source": [
    "# Імпортуємо необхідні модулі\n",
    "from sklearn.model_selection import train_test_split\n",
    "from sklearn.preprocessing import StandardScaler\n",
    "from sklearn.linear_model import LinearRegression\n",
    "from sklearn.metrics import r2_score, mean_absolute_error, mean_absolute_percentage_error\n",
    "\n",
    "# Приведення AveRooms до квадрата оскільки кореляція занадто сильна\n",
    "# додало кілька пунктів до R2 - 0.58 -> 0.62\n",
    "df_clean['AveRooms_sq'] = df_clean['AveRooms'] ** 2\n",
    "df_clean.drop(columns=['AveRooms'], inplace=True)\n",
    "\n",
    "# \"MedInc\" - цільова змінна\n",
    "# Розділяємо дані на ознаки (X) та цільову змінну (y)\n",
    "X = df_clean.drop(columns=[\"MedInc\"], axis=1)\n",
    "y = df_clean[\"MedInc\"]\n",
    "\n",
    "# Крок 4. Розбиваємо дані на навчальну та тестову вибірки (80% навчальна, 20% тестова)\n",
    "X_train, X_test, y_train, y_test = train_test_split(X, y, test_size=0.2, random_state=42)\n",
    "\n",
    "# Крок 5. Нормалізуємо ознаки за допомогою StandardScaler\n",
    "scaler = StandardScaler()\n",
    "# Навчаємо scaler на навчальній вибірці та перетворюємо її\n",
    "X_train_scaled = scaler.fit_transform(X_train)\n",
    "# Використовуємо навчену модель для перетворення тестової вибірки\n",
    "X_test_scaled = scaler.transform(X_test)\n",
    "\n",
    "# Крок 6. Побудова моделі лінійної регресії\n",
    "model = LinearRegression()\n",
    "# Навчаємо модель на нормалізованих даних навчальної вибірки\n",
    "model.fit(X_train_scaled, y_train)\n",
    "# Отримуємо передбачення для тестової вибірки\n",
    "y_pred = model.predict(X_test_scaled)\n",
    "\n",
    "r2 = r2_score(y_test, y_pred)\n",
    "mae = mean_absolute_error(y_test, y_pred)\n",
    "mape = mean_absolute_percentage_error(y_test, y_pred)\n",
    "\n",
    "# Вивід показників\n",
    "print(f'R2: {r2:.2f} | MAE: {mae:.2f} | MAPE: {mape:.2f}')"
   ],
   "id": "e3afd784a0134167",
   "outputs": [
    {
     "name": "stdout",
     "output_type": "stream",
     "text": [
      "R2: 0.62 | MAE: 0.87 | MAPE: 0.27\n"
     ]
    }
   ],
   "execution_count": 42
  },
  {
   "metadata": {
    "ExecuteTime": {
     "end_time": "2025-02-23T21:52:20.787009Z",
     "start_time": "2025-02-23T21:52:20.785311Z"
    }
   },
   "cell_type": "code",
   "source": [
    "# from ydata_profiling import ProfileReport\n",
    "# report = ProfileReport(\n",
    "#     df_clean,\n",
    "#     title='California Housing Dataset')\n",
    "# \n",
    "# report.to_notebook_iframe()"
   ],
   "id": "d349f1a2507d8920",
   "outputs": [],
   "execution_count": 43
  },
  {
   "metadata": {
    "ExecuteTime": {
     "end_time": "2025-02-23T21:52:20.807807Z",
     "start_time": "2025-02-23T21:52:20.806430Z"
    }
   },
   "cell_type": "code",
   "source": "",
   "id": "e212cb7c3cad1eb9",
   "outputs": [],
   "execution_count": null
  }
 ],
 "metadata": {
  "kernelspec": {
   "display_name": "Python 3",
   "language": "python",
   "name": "python3"
  },
  "language_info": {
   "codemirror_mode": {
    "name": "ipython",
    "version": 2
   },
   "file_extension": ".py",
   "mimetype": "text/x-python",
   "name": "python",
   "nbconvert_exporter": "python",
   "pygments_lexer": "ipython2",
   "version": "2.7.6"
  }
 },
 "nbformat": 4,
 "nbformat_minor": 5
}
