{
 "cells": [
  {
   "metadata": {
    "ExecuteTime": {
     "end_time": "2025-03-10T21:29:45.417859Z",
     "start_time": "2025-03-10T21:29:45.407722Z"
    }
   },
   "cell_type": "code",
   "source": [
    "import pandas as pd\n",
    "from category_encoders import TargetEncoder\n",
    "from sklearn.preprocessing import StandardScaler, MinMaxScaler\n",
    "from sklearn.neighbors import KNeighborsRegressor\n",
    "from sklearn.model_selection import train_test_split\n",
    "from sklearn.metrics import mean_squared_error, r2_score, mean_absolute_percentage_error\n",
    "\n",
    "# Load data\n",
    "df_train = pd.read_csv('../datasets/mod_04_hw_train_data.csv')\n",
    "df_train"
   ],
   "id": "8f09660539a9f17a",
   "outputs": [
    {
     "data": {
      "text/plain": [
       "                   Name  Phone_Number  Experience Qualification University  \\\n",
       "0    Jennifer Hernandez  120-602-1220         3.0           Msc      Tier2   \n",
       "1        Timothy Walker  840-675-8650         5.0           PhD      Tier2   \n",
       "2           David Duran  556-293-8643         5.0           Msc      Tier2   \n",
       "3         Gloria Ortega  463-559-7474         3.0           Bsc      Tier3   \n",
       "4        Matthew Steele  968-091-7683         5.0           Bsc      Tier2   \n",
       "..                  ...           ...         ...           ...        ...   \n",
       "244         Adam Graham  107-988-5466         3.0           PhD      Tier2   \n",
       "245   Christopher Brown  376-543-7355         3.0           Msc      Tier1   \n",
       "246         Emily Brown  553-413-5579         5.0           Bsc      Tier1   \n",
       "247    Mrs. Audrey Ware  578-962-7818         5.0           PhD      Tier3   \n",
       "248       Amanda Cooper  481-825-6149         4.0           Msc      Tier2   \n",
       "\n",
       "       Role Cert Date_Of_Birth  Salary  \n",
       "0       Mid  Yes    25/08/1972   98000  \n",
       "1    Senior  Yes    03/12/2013  135500  \n",
       "2    Senior  Yes    19/07/2002  123500  \n",
       "3       Mid   No    19/02/1970   85000  \n",
       "4    Senior  Yes    20/02/1970  111500  \n",
       "..      ...  ...           ...     ...  \n",
       "244     Mid   No    12/01/1993  103000  \n",
       "245  Junior  Yes    26/08/2001   76500  \n",
       "246  Senior  Yes    08/02/1980  107500  \n",
       "247  Senior   No    11/10/1998  134500  \n",
       "248  Senior   No    06/04/1993  112500  \n",
       "\n",
       "[249 rows x 9 columns]"
      ],
      "text/html": [
       "<div>\n",
       "<style scoped>\n",
       "    .dataframe tbody tr th:only-of-type {\n",
       "        vertical-align: middle;\n",
       "    }\n",
       "\n",
       "    .dataframe tbody tr th {\n",
       "        vertical-align: top;\n",
       "    }\n",
       "\n",
       "    .dataframe thead th {\n",
       "        text-align: right;\n",
       "    }\n",
       "</style>\n",
       "<table border=\"1\" class=\"dataframe\">\n",
       "  <thead>\n",
       "    <tr style=\"text-align: right;\">\n",
       "      <th></th>\n",
       "      <th>Name</th>\n",
       "      <th>Phone_Number</th>\n",
       "      <th>Experience</th>\n",
       "      <th>Qualification</th>\n",
       "      <th>University</th>\n",
       "      <th>Role</th>\n",
       "      <th>Cert</th>\n",
       "      <th>Date_Of_Birth</th>\n",
       "      <th>Salary</th>\n",
       "    </tr>\n",
       "  </thead>\n",
       "  <tbody>\n",
       "    <tr>\n",
       "      <th>0</th>\n",
       "      <td>Jennifer Hernandez</td>\n",
       "      <td>120-602-1220</td>\n",
       "      <td>3.0</td>\n",
       "      <td>Msc</td>\n",
       "      <td>Tier2</td>\n",
       "      <td>Mid</td>\n",
       "      <td>Yes</td>\n",
       "      <td>25/08/1972</td>\n",
       "      <td>98000</td>\n",
       "    </tr>\n",
       "    <tr>\n",
       "      <th>1</th>\n",
       "      <td>Timothy Walker</td>\n",
       "      <td>840-675-8650</td>\n",
       "      <td>5.0</td>\n",
       "      <td>PhD</td>\n",
       "      <td>Tier2</td>\n",
       "      <td>Senior</td>\n",
       "      <td>Yes</td>\n",
       "      <td>03/12/2013</td>\n",
       "      <td>135500</td>\n",
       "    </tr>\n",
       "    <tr>\n",
       "      <th>2</th>\n",
       "      <td>David Duran</td>\n",
       "      <td>556-293-8643</td>\n",
       "      <td>5.0</td>\n",
       "      <td>Msc</td>\n",
       "      <td>Tier2</td>\n",
       "      <td>Senior</td>\n",
       "      <td>Yes</td>\n",
       "      <td>19/07/2002</td>\n",
       "      <td>123500</td>\n",
       "    </tr>\n",
       "    <tr>\n",
       "      <th>3</th>\n",
       "      <td>Gloria Ortega</td>\n",
       "      <td>463-559-7474</td>\n",
       "      <td>3.0</td>\n",
       "      <td>Bsc</td>\n",
       "      <td>Tier3</td>\n",
       "      <td>Mid</td>\n",
       "      <td>No</td>\n",
       "      <td>19/02/1970</td>\n",
       "      <td>85000</td>\n",
       "    </tr>\n",
       "    <tr>\n",
       "      <th>4</th>\n",
       "      <td>Matthew Steele</td>\n",
       "      <td>968-091-7683</td>\n",
       "      <td>5.0</td>\n",
       "      <td>Bsc</td>\n",
       "      <td>Tier2</td>\n",
       "      <td>Senior</td>\n",
       "      <td>Yes</td>\n",
       "      <td>20/02/1970</td>\n",
       "      <td>111500</td>\n",
       "    </tr>\n",
       "    <tr>\n",
       "      <th>...</th>\n",
       "      <td>...</td>\n",
       "      <td>...</td>\n",
       "      <td>...</td>\n",
       "      <td>...</td>\n",
       "      <td>...</td>\n",
       "      <td>...</td>\n",
       "      <td>...</td>\n",
       "      <td>...</td>\n",
       "      <td>...</td>\n",
       "    </tr>\n",
       "    <tr>\n",
       "      <th>244</th>\n",
       "      <td>Adam Graham</td>\n",
       "      <td>107-988-5466</td>\n",
       "      <td>3.0</td>\n",
       "      <td>PhD</td>\n",
       "      <td>Tier2</td>\n",
       "      <td>Mid</td>\n",
       "      <td>No</td>\n",
       "      <td>12/01/1993</td>\n",
       "      <td>103000</td>\n",
       "    </tr>\n",
       "    <tr>\n",
       "      <th>245</th>\n",
       "      <td>Christopher Brown</td>\n",
       "      <td>376-543-7355</td>\n",
       "      <td>3.0</td>\n",
       "      <td>Msc</td>\n",
       "      <td>Tier1</td>\n",
       "      <td>Junior</td>\n",
       "      <td>Yes</td>\n",
       "      <td>26/08/2001</td>\n",
       "      <td>76500</td>\n",
       "    </tr>\n",
       "    <tr>\n",
       "      <th>246</th>\n",
       "      <td>Emily Brown</td>\n",
       "      <td>553-413-5579</td>\n",
       "      <td>5.0</td>\n",
       "      <td>Bsc</td>\n",
       "      <td>Tier1</td>\n",
       "      <td>Senior</td>\n",
       "      <td>Yes</td>\n",
       "      <td>08/02/1980</td>\n",
       "      <td>107500</td>\n",
       "    </tr>\n",
       "    <tr>\n",
       "      <th>247</th>\n",
       "      <td>Mrs. Audrey Ware</td>\n",
       "      <td>578-962-7818</td>\n",
       "      <td>5.0</td>\n",
       "      <td>PhD</td>\n",
       "      <td>Tier3</td>\n",
       "      <td>Senior</td>\n",
       "      <td>No</td>\n",
       "      <td>11/10/1998</td>\n",
       "      <td>134500</td>\n",
       "    </tr>\n",
       "    <tr>\n",
       "      <th>248</th>\n",
       "      <td>Amanda Cooper</td>\n",
       "      <td>481-825-6149</td>\n",
       "      <td>4.0</td>\n",
       "      <td>Msc</td>\n",
       "      <td>Tier2</td>\n",
       "      <td>Senior</td>\n",
       "      <td>No</td>\n",
       "      <td>06/04/1993</td>\n",
       "      <td>112500</td>\n",
       "    </tr>\n",
       "  </tbody>\n",
       "</table>\n",
       "<p>249 rows × 9 columns</p>\n",
       "</div>"
      ]
     },
     "execution_count": 33,
     "metadata": {},
     "output_type": "execute_result"
    }
   ],
   "execution_count": 33
  },
  {
   "metadata": {},
   "cell_type": "markdown",
   "source": [
    "### Розглянувши основні статистичні показники цього датасету можна прийти до наступних висновків\n",
    "\n",
    "1. Значна варіативність наступних колонок: Name, Phone_Number, Date_Of_Birth\n",
    "2. Незначна кількість пропущених даних у колонках: Role, Experience, Cert, Qualification\n",
    "\n",
    "* Для підготовки датасету до подальшого аналізу ми видалимо малоінформативні колонки та записи з пропущеними значеннями."
   ],
   "id": "10fb4d4df8d8da37"
  },
  {
   "metadata": {
    "ExecuteTime": {
     "end_time": "2025-03-10T21:29:45.431272Z",
     "start_time": "2025-03-10T21:29:45.428284Z"
    }
   },
   "cell_type": "code",
   "source": [
    "df_train.drop(columns=['Name', 'Phone_Number', 'Date_Of_Birth'], inplace=True)\n",
    "df_train.dropna(inplace=True)"
   ],
   "id": "1bb00f2ac8bd8d93",
   "outputs": [],
   "execution_count": 34
  },
  {
   "metadata": {},
   "cell_type": "markdown",
   "source": [
    "### Наступні кроки\n",
    "\n",
    "* Роділимо дані на тренувальну і тестову вибірки\n",
    "* Закодуємо категоріальні фічі за допомогою `Target Encoder`\n",
    "* Приведемо дані до єдиного масштабу\n",
    "* Натренуємо модель та виведемо метрики"
   ],
   "id": "3868c803516a80c"
  },
  {
   "metadata": {
    "ExecuteTime": {
     "end_time": "2025-03-10T21:33:48.521413Z",
     "start_time": "2025-03-10T21:33:48.489207Z"
    }
   },
   "cell_type": "code",
   "source": [
    "categorical_columns = ['Qualification', 'University', 'Role', 'Cert']\n",
    "\n",
    "# Define X and y\n",
    "X = df_train.drop(columns=['Salary'])\n",
    "y = df_train['Salary']\n",
    "\n",
    "# Розібємо датасет на тренувальну та тестову вибірки\n",
    "X_train, X_test, y_train, y_test = train_test_split(X, y, test_size=0.2, random_state=42)\n",
    "\n",
    "# Закодуємо категоріальні фічі\n",
    "encoder = TargetEncoder(cols=categorical_columns)\n",
    "encoder.set_output(transform='pandas')\n",
    "X_train[categorical_columns] = encoder.fit_transform(X_train[categorical_columns], y_train)\n",
    "X_test[categorical_columns] = encoder.transform(X_test[categorical_columns])\n",
    "\n",
    "# Приведемо їх до єдиного масштабу\n",
    "st_scaler = StandardScaler()\n",
    "X_train = st_scaler.fit_transform(X_train)\n",
    "X_test = st_scaler.transform(X_test)\n",
    "\n",
    "# Тренуємо модель\n",
    "model = KNeighborsRegressor(n_neighbors=5)\n",
    "model.fit(X_train, y_train)\n",
    "\n",
    "# Робимо заміри продуктивності моделі і виводимо метрики\n",
    "y_pred = model.predict(X_test)\n",
    "mse = mean_squared_error(y_test, y_pred)\n",
    "r2 = r2_score(y_test, y_pred)\n",
    "mape = mean_absolute_percentage_error(y_test, y_pred)\n",
    "\n",
    "print(f\"Mean Squared Error (MSE): {mse:.4f}\")\n",
    "print(f\"R² Score: {r2:.4f}\")\n",
    "print(f\"Mean Absolute Percentage Error (MAPE): {mape:.4%}\")"
   ],
   "id": "e161dd3d09266743",
   "outputs": [
    {
     "name": "stdout",
     "output_type": "stream",
     "text": [
      "Mean Squared Error (MSE): 25162653.0612\n",
      "R² Score: 0.9514\n",
      "Mean Absolute Percentage Error (MAPE): 3.8659%\n"
     ]
    }
   ],
   "execution_count": 39
  },
  {
   "metadata": {},
   "cell_type": "markdown",
   "source": [
    "### Висновок по метрикам:\n",
    "* MSE (20699795.92) – середньоквадратична помилка вказує на значні відхилення у квадраті, але для моделі KNN це очікувано через масштаб зарплат.\n",
    "* R² Score (0.96) – дуже високе значення, що свідчить про те, що модель добре пояснює варіацію зарплат за допомогою вхідних фіч.\n",
    "* MAPE (3.54%) – низьке середнє абсолютне відхилення у відсотках, що свідчить про високу точність передбачень відносно реальних зарплат.\n",
    "\n",
    "✅ Модель добре працює, точність передбачень висока, але варто перевірити узагальнюваність на валідаційних даних. 🚀"
   ],
   "id": "2bdc5a95b7723fc6"
  },
  {
   "metadata": {
    "ExecuteTime": {
     "end_time": "2025-03-10T21:33:50.544178Z",
     "start_time": "2025-03-10T21:33:50.527733Z"
    }
   },
   "cell_type": "code",
   "source": [
    "df_valid = pd.read_csv('../datasets/mod_04_hw_valid_data.csv')\n",
    "\n",
    "# Видаляємо малоінформативні фічі та рядки з пропущеними значеннями\n",
    "df_valid.drop(columns=['Name', 'Phone_Number', 'Date_Of_Birth'], inplace=True)\n",
    "df_valid.dropna(inplace=True)\n",
    "\n",
    "# Розібємо датасет на тренувальну та тестову вибірки\n",
    "X_valid = df_valid.drop(columns=['Salary'])\n",
    "y_valid = df_valid['Salary']\n",
    "\n",
    "# Закодуємо категоріальні фічі\n",
    "X_valid_encoded = encoder.transform(X_valid[categorical_columns])\n",
    "X_valid[categorical_columns] = X_valid_encoded\n",
    "\n",
    "# Приведемо їх до єдиного масштабу\n",
    "X_valid = st_scaler.transform(X_valid)\n",
    "\n",
    "# Робимо заміри продуктивності моделі і виводимо метрики\n",
    "y_valid_pred = model.predict(X_valid)\n",
    "mse_valid = mean_squared_error(y_valid, y_valid_pred)\n",
    "r2_valid = r2_score(y_valid, y_valid_pred)\n",
    "mape_valid = mean_absolute_percentage_error(y_valid, y_valid_pred)\n",
    "print(f\"Validation Mean Squared Error (MSE): {mse_valid:.4f}\")\n",
    "print(f\"Validation R² Score: {r2_valid:.4f}\")\n",
    "print(f\"Validation Mean Absolute Percentage Error (MAPE): {mape_valid:.4%}\")"
   ],
   "id": "be13cdd2d4fbb446",
   "outputs": [
    {
     "name": "stdout",
     "output_type": "stream",
     "text": [
      "Validation Mean Squared Error (MSE): 116648571.4286\n",
      "Validation R² Score: 0.5393\n",
      "Validation Mean Absolute Percentage Error (MAPE): 10.7937%\n"
     ]
    }
   ],
   "execution_count": 40
  },
  {
   "metadata": {},
   "cell_type": "markdown",
   "source": [
    "### Висновок по валідаційних метриках:\n",
    "* MSE – значно більше, ніж на тестових даних, що вказує на велику помилку передбачень та можливий проблеми з узагальненням.\n",
    "* R² Score (0.53) – різке падіння порівняно з тренувальними даними (було 0.95), що означає, що модель погано пояснює варіацію зарплат у валідаційному наборі.\n",
    "* MAPE (10.7937%) – значно вище, ніж на тестових даних (було 3.86%), що вказує на високий рівень помилки у відсотках.\n",
    "* Спроби додати PowerTransformer до Salary не дали результату і навіть дещо погіршили метрики валідаційних даних\n",
    "* Також спроби підібрати кращі параметри за допомогою GridSearch не дали приросту продуктивності\n"
   ],
   "id": "437340fca44a5ff"
  },
  {
   "metadata": {
    "ExecuteTime": {
     "end_time": "2025-03-10T21:29:45.592862Z",
     "start_time": "2025-03-10T21:29:45.591326Z"
    }
   },
   "cell_type": "code",
   "source": "",
   "id": "8b084aa72e6ae851",
   "outputs": [],
   "execution_count": null
  }
 ],
 "metadata": {
  "kernelspec": {
   "display_name": "Python 3",
   "language": "python",
   "name": "python3"
  },
  "language_info": {
   "codemirror_mode": {
    "name": "ipython",
    "version": 2
   },
   "file_extension": ".py",
   "mimetype": "text/x-python",
   "name": "python",
   "nbconvert_exporter": "python",
   "pygments_lexer": "ipython2",
   "version": "2.7.6"
  }
 },
 "nbformat": 4,
 "nbformat_minor": 5
}
